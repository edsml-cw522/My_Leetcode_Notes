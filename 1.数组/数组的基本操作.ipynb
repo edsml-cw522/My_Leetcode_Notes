{
  "nbformat": 4,
  "nbformat_minor": 0,
  "metadata": {
    "colab": {
      "provenance": []
    },
    "kernelspec": {
      "name": "python3",
      "display_name": "Python 3"
    },
    "language_info": {
      "name": "python"
    }
  },
  "cells": [
    {
      "cell_type": "markdown",
      "source": [
        "### 1. 创建列表："
      ],
      "metadata": {
        "id": "c8HzlKd9Nq6W"
      }
    },
    {
      "cell_type": "code",
      "execution_count": 7,
      "metadata": {
        "id": "E9A1zB8PLlbD"
      },
      "outputs": [],
      "source": [
        "# 创建空列表\n",
        "empty_list = []\n",
        "\n",
        "# 创建包含整数的列表\n",
        "numbers = [1, 2, 3, 4, 5]\n",
        "\n",
        "# 创建包含字符串的列表\n",
        "fruits = [\"apple\", \"banana\", \"cherry\"]\n",
        "\n",
        "# 使用list()函数从其他数据类型创建列表\n",
        "numbers_from_range = list(range(5))"
      ]
    },
    {
      "cell_type": "markdown",
      "source": [
        "### 2. 访问列表元素和切片操作:\n",
        "- 切片操作，其基本格式为 list[start:stop:step]，其中 start 是切片的开始位置,stop 是切片的结束位置(但不包括这个位置),step 是步长。\n"
      ],
      "metadata": {
        "id": "iiDONyNfNzPg"
      }
    },
    {
      "cell_type": "code",
      "source": [
        "fruits = [\"apple\", \"banana\", \"cherry\"]\n",
        "\n",
        "# 获取第一个元素\n",
        "first_fruit = fruits[0]\n",
        "\n",
        "# 获取最后一个元素\n",
        "last_fruit = fruits[-1]\n",
        "\n",
        "fruits = [\"apple\", \"banana\", \"cherry\", \"date\", \"fig\", \"grape\"]\n",
        "\n",
        "# 获取前三个元素\n",
        "first_three = fruits[:3]\n",
        "\n",
        "# 获取从第二个到第四个元素\n",
        "middle = fruits[1:4]\n",
        "\n",
        "# 获取最后两个元素\n",
        "last_two = fruits[-2:]\n",
        "\n",
        "# 从第二个元素开始，每隔一个元素取一个\n",
        "alternate = fruits[1::2]\n",
        "print(alternate)\n",
        "\n",
        "# 反转列表\n",
        "reversed_fruits = fruits[::-1]\n"
      ],
      "metadata": {
        "colab": {
          "base_uri": "https://localhost:8080/"
        },
        "id": "7ONP-I75N6E1",
        "outputId": "0a1508b3-ad8b-4925-8a67-ac3ba810413e"
      },
      "execution_count": 8,
      "outputs": [
        {
          "output_type": "stream",
          "name": "stdout",
          "text": [
            "['banana', 'date', 'grape']\n"
          ]
        }
      ]
    },
    {
      "cell_type": "markdown",
      "source": [
        "### 3. 修改列表:"
      ],
      "metadata": {
        "id": "hB6XS4kwN_dv"
      }
    },
    {
      "cell_type": "code",
      "source": [
        "fruits = [\"apple\", \"banana\", \"cherry\"]\n",
        "\n",
        "# 修改第二个元素\n",
        "fruits[1] = \"blueberry\"\n",
        "\n",
        "# 在列表末尾添加元素\n",
        "fruits.append(\"dragonfruit\")\n",
        "\n",
        "# 在指定位置插入元素\n",
        "fruits.insert(1, \"avocado\")"
      ],
      "metadata": {
        "id": "N0364jfVN8xW"
      },
      "execution_count": 9,
      "outputs": []
    },
    {
      "cell_type": "markdown",
      "source": [
        "### 4. 删除列表元素："
      ],
      "metadata": {
        "id": "9Q7GnKHNOUm7"
      }
    },
    {
      "cell_type": "code",
      "source": [
        "fruits = [\"apple\", \"banana\", \"cherry\"]\n",
        "print(f'The original fruits list = {fruits}')\n",
        "\n",
        "# 删除第二个元素\n",
        "del fruits[1]\n",
        "print(f'After \\'del fruits[1]\\' = {fruits}')\n",
        "\n",
        "# 使用remove()删除指定的元素\n",
        "fruits.remove(\"cherry\")\n",
        "print(f'After \\'fruits.remove(\"cherry\")\\' = {fruits}')\n",
        "\n",
        "# 使用pop()删除并返回最后一个元素\n",
        "popped_fruit = fruits.pop()\n",
        "print(f'After \\'popped_fruit = fruits.pop()\\' = {popped_fruit}')"
      ],
      "metadata": {
        "colab": {
          "base_uri": "https://localhost:8080/"
        },
        "id": "YExiFD8oOXOy",
        "outputId": "dd01ddf0-e01a-421f-a86e-2e4b1f51b4a7"
      },
      "execution_count": 10,
      "outputs": [
        {
          "output_type": "stream",
          "name": "stdout",
          "text": [
            "The original fruits list = ['apple', 'banana', 'cherry']\n",
            "After 'del fruits[1]' = ['apple', 'cherry']\n",
            "After 'fruits.remove(\"cherry\")' = ['apple']\n",
            "After 'popped_fruit = fruits.pop()' = apple\n"
          ]
        }
      ]
    },
    {
      "cell_type": "markdown",
      "source": [
        "### 5. 列表的其他常见操作："
      ],
      "metadata": {
        "id": "aUqUNjulPxLz"
      }
    },
    {
      "cell_type": "code",
      "source": [
        "fruits = [\"orange\", \"apple\", \"banana\", \"cherry\"]\n",
        "\n",
        "# 获取列表长度\n",
        "length = len(fruits)\n",
        "\n",
        "# 列表排序\n",
        "fruits.sort()\n",
        "print(fruits)\n",
        "\n",
        "# 反转列表\n",
        "fruits.reverse()\n",
        "print(fruits)\n",
        "\n",
        "# 查找元素的位置\n",
        "index = fruits.index(\"banana\")\n",
        "print(index)\n",
        "\n",
        "# 检查元素是否在列表中\n",
        "if \"banana\" in fruits:\n",
        "    print(\"Yes, 'banana' is in the fruits list\")"
      ],
      "metadata": {
        "colab": {
          "base_uri": "https://localhost:8080/"
        },
        "id": "W6ZST6q_OdDy",
        "outputId": "5aba28d4-e7c4-4754-e7c2-91881ef97b63"
      },
      "execution_count": 11,
      "outputs": [
        {
          "output_type": "stream",
          "name": "stdout",
          "text": [
            "['apple', 'banana', 'cherry', 'orange']\n",
            "['orange', 'cherry', 'banana', 'apple']\n",
            "2\n",
            "Yes, 'banana' is in the fruits list\n"
          ]
        }
      ]
    },
    {
      "cell_type": "markdown",
      "source": [
        "### 6. 列表解析:"
      ],
      "metadata": {
        "id": "Ia-RC1R-Qq8v"
      }
    },
    {
      "cell_type": "code",
      "source": [
        "numbers = [1, 2, 3, 4, 5]\n",
        "\n",
        "# 使用列表解析创建新的列表\n",
        "squared_numbers = [x**2 for x in numbers if x % 2 == 1]\n",
        "squared_numbers"
      ],
      "metadata": {
        "colab": {
          "base_uri": "https://localhost:8080/"
        },
        "id": "hkceeA5yQyGW",
        "outputId": "7586d4b0-2682-46fe-e959-0939e6823248"
      },
      "execution_count": 12,
      "outputs": [
        {
          "output_type": "execute_result",
          "data": {
            "text/plain": [
              "[1, 9, 25]"
            ]
          },
          "metadata": {},
          "execution_count": 12
        }
      ]
    },
    {
      "cell_type": "markdown",
      "source": [
        "### 7. 合并和复制列表:"
      ],
      "metadata": {
        "id": "izYPgUQ5Y69n"
      }
    },
    {
      "cell_type": "code",
      "source": [
        "list1 = [1, 2, 3]\n",
        "list2 = [4, 5, 6]\n",
        "\n",
        "# 合并两个列表\n",
        "merged_list = list1 + list2\n",
        "print(merged_list)\n",
        "\n",
        "# 复制列表\n",
        "copied_list = list1[:]\n",
        "print(copied_list)\n",
        "list1[0] = 100\n",
        "print(copied_list)\n",
        "print(list1)"
      ],
      "metadata": {
        "colab": {
          "base_uri": "https://localhost:8080/"
        },
        "id": "wK478nOAQ4rE",
        "outputId": "8b51d76b-4058-430c-dfa6-ba1470975bf2"
      },
      "execution_count": 13,
      "outputs": [
        {
          "output_type": "stream",
          "name": "stdout",
          "text": [
            "[1, 2, 3, 4, 5, 6]\n",
            "[1, 2, 3]\n",
            "[1, 2, 3]\n",
            "[100, 2, 3]\n"
          ]
        }
      ]
    },
    {
      "cell_type": "markdown",
      "source": [
        "### 8.二维列表(2D 列表)操作:\n"
      ],
      "metadata": {
        "id": "ZSf--_cEb-X8"
      }
    },
    {
      "cell_type": "code",
      "source": [
        "# 创建一个2D列表\n",
        "matrix = [\n",
        "    [1, 2, 3],\n",
        "    [4, 5, 6],\n",
        "    [7, 8, 9]\n",
        "]\n",
        "print(matrix)\n",
        "\n",
        "# 访问2D列表的元素\n",
        "first_row = matrix[0]\n",
        "element_2_3 = matrix[1][2]\n",
        "\n",
        "# 修改2D列表的元素\n",
        "matrix[0][1] = 10\n",
        "\n",
        "# 添加新的行\n",
        "matrix.append([10, 11, 12])\n",
        "\n",
        "# 在第二行中插入一个新的元素\n",
        "matrix[1].insert(1, 4.5)\n",
        "\n",
        "# 删除2D列表的第三行\n",
        "del matrix[2]\n",
        "print(matrix)"
      ],
      "metadata": {
        "colab": {
          "base_uri": "https://localhost:8080/"
        },
        "id": "Uo3UdBPHcFtU",
        "outputId": "3a676b76-888b-4e6a-c326-2e2892bb8d1f"
      },
      "execution_count": 14,
      "outputs": [
        {
          "output_type": "stream",
          "name": "stdout",
          "text": [
            "[[1, 2, 3], [4, 5, 6], [7, 8, 9]]\n",
            "[[1, 10, 3], [4, 4.5, 5, 6], [10, 11, 12]]\n"
          ]
        }
      ]
    },
    {
      "cell_type": "code",
      "source": [],
      "metadata": {
        "id": "BvKfsPg0c9yM"
      },
      "execution_count": null,
      "outputs": []
    }
  ]
}